{
 "cells": [
  {
   "cell_type": "code",
   "execution_count": null,
   "metadata": {},
   "outputs": [],
   "source": [
    "from model import ModelBuilder\n",
    "from pipeline import DataPipeLine\n",
    "import tensorflow as tf\n",
    "from metrics import MultipleClassSegmentationMetrics\n",
    "import matplotlib.pyplot as plt\n",
    "import numpy as np"
   ]
  },
  {
   "cell_type": "code",
   "execution_count": null,
   "metadata": {},
   "outputs": [],
   "source": [
    "DATA_PATH = \"nifti/\"\n",
    "MASK_PATH = 'masks/'\n",
    "DATAFRAME = 'Final series.csv'\n",
    "MODEL_NAMES = ['SimpleUnet', 'ResnetUnet', 'DenseNet121', 'ResNetRSUnet', 'EfficientB0Unet']\n",
    "DATA_AUGMENTATION = 0.8\n",
    "IMAGE_SIZE = 512\n",
    "CHANNELS = 7\n",
    "BATCH_SIZE = 8\n",
    "VIEW_NUMBER = 4\n",
    "EPOCHS = 300\n",
    "LEARNING_RATE = 0.002\n",
    "LEARNING_RATE_DECAY = -0.015\n",
    "MASK2 = False\n",
    "metric = MultipleClassSegmentationMetrics(CHANNELS)"
   ]
  },
  {
   "cell_type": "code",
   "execution_count": null,
   "metadata": {},
   "outputs": [],
   "source": [
    "def lr_schedule(epoch, lr):\n",
    "    if epoch < 50:\n",
    "        return lr\n",
    "    else:\n",
    "        return lr * tf.math.exp(LEARNING_RATE_DECAY)"
   ]
  },
  {
   "cell_type": "code",
   "execution_count": null,
   "metadata": {},
   "outputs": [],
   "source": [
    "data_pipeline = DataPipeLine(DATA_PATH,\n",
    "                                DATAFRAME,\n",
    "                                MASK_PATH,\n",
    "                                view_number=VIEW_NUMBER,\n",
    "                                batch=BATCH_SIZE,\n",
    "                                mask2=MASK2,\n",
    "                                image_size=IMAGE_SIZE,\n",
    "                                augmentation=DATA_AUGMENTATION)\n",
    "dataset = data_pipeline.dataset_generator()"
   ]
  },
  {
   "cell_type": "code",
   "execution_count": null,
   "metadata": {},
   "outputs": [],
   "source": [
    "import numpy as np\n",
    "for i in dataset.take(2):\n",
    "    print(np.unique(i[1]['multi']))\n",
    "    plt.figure(figsize=(10, 10))\n",
    "    ax = plt.subplot(1, 2, 1)\n",
    "    plt.imshow(i[0]['input_1'][0])\n",
    "    ax = plt.subplot(1, 2, 2)\n",
    "    plt.imshow(i[1]['multi'][0])\n",
    "    plt.show()"
   ]
  },
  {
   "cell_type": "code",
   "execution_count": null,
   "metadata": {},
   "outputs": [],
   "source": [
    "for MODEL_NAME in MODEL_NAMES:\n",
    "    \n",
    "    checkpoint = model_checkpoint_callback_LASSO = tf.keras.callbacks.ModelCheckpoint(\n",
    "        filepath='./model_weights/' + MODEL_NAME + '_view number_' + str(VIEW_NUMBER),\n",
    "        monitor=\"val_loss\",\n",
    "        save_best_only=True,\n",
    "        save_weights_only=True,\n",
    "        mode=\"auto\",\n",
    "    )\n",
    "\n",
    "    model = ModelBuilder(IMAGE_SIZE, CHANNELS, MODEL_NAME)\n",
    "\n",
    "    model.compile(\n",
    "        optimizer=tf.keras.optimizers.Adam(learning_rate=LEARNING_RATE),\n",
    "        loss={'multi': tf.keras.losses.SparseCategoricalCrossentropy()},\n",
    "        metrics={'multi': [metric.dice_multi_coef]}\n",
    "    )\n",
    "    model.fit(dataset.skip(5),\n",
    "                validation_data=dataset.take(5),\n",
    "                epochs=EPOCHS,\n",
    "                callbacks=[checkpoint, tf.keras.callbacks.LearningRateScheduler(lr_schedule)])\n",
    "\n",
    "    model.load_best('./model_weights/' + MODEL_NAME + '_view number_' + str(VIEW_NUMBER))\n",
    "    print(model.evaluate(dataset.take(5)))\n",
    "    model.save(\"./saved_models/\" + MODEL_NAME + '_view number_' + str(VIEW_NUMBER))"
   ]
  }
 ],
 "metadata": {
  "language_info": {
   "name": "python"
  },
  "orig_nbformat": 4
 },
 "nbformat": 4,
 "nbformat_minor": 2
}
